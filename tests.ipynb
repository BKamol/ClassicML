{
 "cells": [
  {
   "cell_type": "code",
   "execution_count": 1,
   "metadata": {},
   "outputs": [
    {
     "name": "stderr",
     "output_type": "stream",
     "text": [
      "C:\\Users\\KABabadzhanov\\AppData\\Local\\Temp\\ipykernel_12576\\1662815981.py:2: DeprecationWarning: \n",
      "Pyarrow will become a required dependency of pandas in the next major release of pandas (pandas 3.0),\n",
      "(to allow more performant data types, such as the Arrow string type, and better interoperability with other libraries)\n",
      "but was not found to be installed on your system.\n",
      "If this would cause problems for you,\n",
      "please provide us feedback at https://github.com/pandas-dev/pandas/issues/54466\n",
      "        \n",
      "  import pandas as pd\n"
     ]
    }
   ],
   "source": [
    "import numpy as np\n",
    "import pandas as pd"
   ]
  },
  {
   "cell_type": "code",
   "execution_count": 2,
   "metadata": {},
   "outputs": [],
   "source": [
    "from sklearn.datasets import make_regression\n",
    "\n",
    "X, y = make_regression(n_samples=1000, n_features=14, n_informative=10, noise=15, random_state=42)\n",
    "X = pd.DataFrame(X)\n",
    "y = pd.Series(y)\n",
    "X.columns = [f'col_{col}' for col in X.columns]"
   ]
  },
  {
   "cell_type": "code",
   "execution_count": 3,
   "metadata": {},
   "outputs": [],
   "source": [
    "from sklearn.datasets import make_classification\n",
    "\n",
    "X, y = make_classification(n_samples=1000, n_features=14, n_informative=10, random_state=42)\n",
    "X = pd.DataFrame(X)\n",
    "y = pd.Series(y)\n",
    "X.columns = [f'col_{col}' for col in X.columns]\n",
    "df = pd.read_csv('./data/data_banknote_authentication.txt', header=None)\n",
    "df.columns = ['variance', 'skewness', 'curtosis', 'entropy', 'target']\n",
    "X, y = df.iloc[:,:4], df['target']"
   ]
  },
  {
   "cell_type": "code",
   "execution_count": 4,
   "metadata": {},
   "outputs": [],
   "source": [
    "class Node:\n",
    "    def __init__(self, value, left=None, right=None):\n",
    "        self.value = value\n",
    "        self.left = left\n",
    "        self.right = right\n",
    "\n",
    "    def __str__(self):\n",
    "        return f\"Node: ({self.value}), ({self.right}), ({self.left})\""
   ]
  },
  {
   "cell_type": "code",
   "execution_count": 50,
   "metadata": {},
   "outputs": [],
   "source": [
    "class MyTreeClf:\n",
    "    def __init__(self, max_depth=5, min_samples_split=2, max_leafs=20, bins=None):\n",
    "        self.max_depth = max_depth\n",
    "        self.min_samples_split = min_samples_split\n",
    "        self.max_leafs = max_leafs\n",
    "\n",
    "        self.leafs_cnt = 0\n",
    "        self.root = None\n",
    "        self.bins = bins\n",
    "        self.splitters = None\n",
    "\n",
    "\n",
    "    def __repr__(self):\n",
    "        return f\"MyTreeClf class: max_depth={self.max_depth}, min_samples_split={self.min_samples_split}, max_leafs={self.max_leafs}\"\n",
    "\n",
    "    def _get_splitters(self, x):\n",
    "        values = np.array(sorted(x.unique()))\n",
    "        splitters = np.array([(values[i] + values[i+1])/2 for i in range(len(values)-1)])\n",
    "        return splitters\n",
    "    \n",
    "    def _get_splitters_wbins(self, X, y):\n",
    "        self.splitters = {}\n",
    "        if self.bins:\n",
    "            native_splitters = {col: self._get_splitters(X[col]) for col in X.columns}\n",
    "            for col, splitters in native_splitters.items():\n",
    "                if len(splitters) <= self.bins - 1:\n",
    "                    self.splitters[col] = splitters\n",
    "                else:\n",
    "                    hist = np.histogram(X[col], bins=self.bins)[1][1:-1]\n",
    "                    self.splitters[col] = hist\n",
    "\n",
    "    def _entropy(self, col_targ):\n",
    "        p0 = (col_targ.iloc[:, 1] == 0).sum() / col_targ.shape[0]\n",
    "        p1 = col_targ.iloc[:, 1].sum() / col_targ.shape[0]\n",
    "        S = -p0*np.log2(p0+1e-15) - p1*np.log2(p1+1e-15)\n",
    "        return S\n",
    "\n",
    "    def _get_ig(self, x, y, split):\n",
    "        col_targ = pd.concat([x, y], axis=1)\n",
    "        S0 = self._entropy(col_targ)\n",
    "\n",
    "        left_sub = col_targ.loc[col_targ[x.name] <= split, :]\n",
    "        right_sub = col_targ.loc[col_targ[x.name] > split, :]\n",
    "        S1, S2 = self._entropy(left_sub), self._entropy(right_sub)\n",
    "\n",
    "        IG = S0 - left_sub.shape[0]/col_targ.shape[0]*S1 - right_sub.shape[0]/col_targ.shape[0]*S2\n",
    "        return IG\n",
    "        \n",
    "\n",
    "    def _get_best_split(self, X, y):\n",
    "        cols = X.columns\n",
    "        if self.bins is None:\n",
    "            splitters = {col: self._get_splitters(X[col]) for col in cols}\n",
    "        else:\n",
    "            splitters = self.splitters\n",
    "        best_col = None\n",
    "        best_split = None\n",
    "        best_ig = 0\n",
    "\n",
    "        for col, splits in splitters.items():\n",
    "            x = X[col]\n",
    "            igs = np.array([self._get_ig(x, y, split) for split in splits])\n",
    "            max_idx = igs.argmax()\n",
    "            max_ig, max_split = igs[max_idx], splits[max_idx]\n",
    "            if max_ig > best_ig:\n",
    "                best_col = col\n",
    "                best_split = max_split\n",
    "                best_ig = max_ig\n",
    "        \n",
    "        if best_col is None:\n",
    "            best_col = \"None\"\n",
    "            best_split = X.min().min()-1\n",
    "            best_ig = 0\n",
    "        return best_col, best_split, best_ig\n",
    "\n",
    "    def is_leaf(self, data, depth):\n",
    "        return (all(data.iloc[:, -1] == 1)) or\\\n",
    "               (all(data.iloc[:, -1] == 0)) or\\\n",
    "               (depth >= self.max_depth-1) or\\\n",
    "               (data.shape[0] < self.min_samples_split) or\\\n",
    "               (self.leafs_cnt >= self.max_leafs-1)\n",
    "\n",
    "    \n",
    "    def _fit(self, X, y, depth=0):\n",
    "        best_col, best_split, best_ig = self._get_best_split(X, y)\n",
    "        root = Node((best_col, best_split))\n",
    "\n",
    "        col_targ = pd.concat([X, y], axis=1)\n",
    "\n",
    "        if (best_split > col_targ[best_col].max() or best_split < col_targ[best_col].min()):\n",
    "            value = col_targ.iloc[:, -1].sum() / col_targ.shape[0]\n",
    "            return Node(('leaf', value))\n",
    "\n",
    "        left_sub = col_targ.loc[col_targ[best_col] <= best_split, :]\n",
    "        right_sub = col_targ.loc[col_targ[best_col] > best_split, :]\n",
    "\n",
    "\n",
    "        if self.is_leaf(left_sub, depth):\n",
    "            value = left_sub.iloc[:, -1].sum() / left_sub.shape[0]\n",
    "            root.left = Node(('left', value))\n",
    "            self.leafs_cnt += 1\n",
    "        else:\n",
    "            X, y = left_sub.drop(left_sub.columns[-1], axis=1), left_sub.iloc[:, -1]\n",
    "            root.left = self._fit(X, y, depth+1)\n",
    "\n",
    "        if self.is_leaf(right_sub, depth):\n",
    "            value = right_sub.iloc[:, -1].sum() / right_sub.shape[0]\n",
    "            root.right = Node(('right', value))\n",
    "            self.leafs_cnt += 1\n",
    "        else:\n",
    "            X, y = right_sub.drop(right_sub.columns[-1], axis=1), right_sub.iloc[:, -1]\n",
    "            root.right = self._fit(X, y, depth+1)\n",
    "        return root\n",
    "\n",
    "    def fit(self, X, y):\n",
    "        self._get_splitters_wbins(X, y)\n",
    "        self.root = self._fit(X, y)\n",
    "\n",
    "    \n",
    "    def _predict_proba(self, x, root):\n",
    "        if (root.right is None and root.left is None):\n",
    "            return root.value[1]\n",
    "        \n",
    "        feat, split = root.value\n",
    "        if x[feat] <= split:\n",
    "            return self._predict_proba(x, root.left)\n",
    "        else:\n",
    "            return self._predict_proba(x, root.right)\n",
    "\n",
    "    def predict_proba(self, X):\n",
    "        y_pred_logits = np.array([self._predict_proba(X.iloc[i, :], self.root) for i in range(X.shape[0])])\n",
    "        return y_pred_logits\n",
    "\n",
    "    def predict(self, X):\n",
    "        y_pred = (self.predict_proba(X) > 0.5).astype(int)\n",
    "        return y_pred\n",
    "\n",
    "\n",
    "    def _print_tree(self, root, intend):\n",
    "        if (root is None):\n",
    "            return None\n",
    "        \n",
    "        feat, split = root.value\n",
    "        if (root.left is None and root.right is None):\n",
    "            print('  '*intend, end='')\n",
    "            print(f\"{feat} = {split}\")\n",
    "        else:\n",
    "            print('  '*intend, end='')\n",
    "            print(f\"{feat} > {split}\")\n",
    "\n",
    "        self._print_tree(root.left, intend+1)\n",
    "        self._print_tree(root.right, intend+1)\n",
    "\n",
    "    def print_tree(self):\n",
    "        self._print_tree(self.root, 0)\n",
    "\n",
    "    def _sum_leafs(self, root):\n",
    "        if (root is None):\n",
    "            return 0\n",
    "        if (root.left is None and root.right is None):\n",
    "            return root.value[1]\n",
    "        return self._sum_leafs(root.left) + self._sum_leafs(root.right)\n",
    "    \n",
    "    def sum_leafs(self):\n",
    "        return self._sum_leafs(self.root)\n",
    "\n"
   ]
  },
  {
   "cell_type": "code",
   "execution_count": 51,
   "metadata": {},
   "outputs": [],
   "source": [
    "from sklearn.datasets import make_classification\n",
    "\n",
    "X, y = make_classification(n_samples=1000, n_features=14, n_informative=10, random_state=42)\n",
    "X = pd.DataFrame(X)\n",
    "y = pd.Series(y)\n",
    "X.columns = [f'col_{col}' for col in X.columns]\n",
    "df = pd.read_csv('./data/data_banknote_authentication.txt', header=None)\n",
    "df.columns = ['variance', 'skewness', 'curtosis', 'entropy', 'target']\n",
    "X, y = df.iloc[:,:4], df['target']"
   ]
  },
  {
   "cell_type": "code",
   "execution_count": 52,
   "metadata": {},
   "outputs": [
    {
     "data": {
      "text/plain": [
       "0       0\n",
       "1       0\n",
       "2       0\n",
       "3       0\n",
       "4       0\n",
       "       ..\n",
       "1367    1\n",
       "1368    1\n",
       "1369    1\n",
       "1370    1\n",
       "1371    1\n",
       "Name: target, Length: 1372, dtype: int64"
      ]
     },
     "execution_count": 52,
     "metadata": {},
     "output_type": "execute_result"
    }
   ],
   "source": [
    "col_tag = pd.concat([X, y], axis=1)\n",
    "col_tag.loc[:, y.name]"
   ]
  },
  {
   "cell_type": "code",
   "execution_count": 53,
   "metadata": {},
   "outputs": [
    {
     "name": "stdout",
     "output_type": "stream",
     "text": [
      "{'variance': array([-3.575375, -0.10865 ,  3.358075]), 'skewness': array([-7.091925, -0.41075 ,  6.270425]), 'curtosis': array([ 0.517275,  6.32065 , 12.124025]), 'entropy': array([-5.798775, -3.04935 , -0.299925])}\n"
     ]
    },
    {
     "name": "stderr",
     "output_type": "stream",
     "text": [
      "C:\\Users\\KABabadzhanov\\AppData\\Local\\Temp\\ipykernel_12576\\1474513715.py:22: RuntimeWarning: invalid value encountered in scalar divide\n",
      "  p0 = (col_targ.iloc[:, 1] == 0).sum() / col_targ.shape[0]\n",
      "C:\\Users\\KABabadzhanov\\AppData\\Local\\Temp\\ipykernel_12576\\1474513715.py:23: RuntimeWarning: invalid value encountered in scalar divide\n",
      "  p1 = col_targ.iloc[:, 1].sum() / col_targ.shape[0]\n",
      "C:\\Users\\KABabadzhanov\\AppData\\Local\\Temp\\ipykernel_12576\\1474513715.py:22: RuntimeWarning: invalid value encountered in scalar divide\n",
      "  p0 = (col_targ.iloc[:, 1] == 0).sum() / col_targ.shape[0]\n",
      "C:\\Users\\KABabadzhanov\\AppData\\Local\\Temp\\ipykernel_12576\\1474513715.py:23: RuntimeWarning: invalid value encountered in scalar divide\n",
      "  p1 = col_targ.iloc[:, 1].sum() / col_targ.shape[0]\n",
      "C:\\Users\\KABabadzhanov\\AppData\\Local\\Temp\\ipykernel_12576\\1474513715.py:22: RuntimeWarning: invalid value encountered in scalar divide\n",
      "  p0 = (col_targ.iloc[:, 1] == 0).sum() / col_targ.shape[0]\n",
      "C:\\Users\\KABabadzhanov\\AppData\\Local\\Temp\\ipykernel_12576\\1474513715.py:23: RuntimeWarning: invalid value encountered in scalar divide\n",
      "  p1 = col_targ.iloc[:, 1].sum() / col_targ.shape[0]\n"
     ]
    },
    {
     "ename": "KeyError",
     "evalue": "None",
     "output_type": "error",
     "traceback": [
      "\u001b[1;31m---------------------------------------------------------------------------\u001b[0m",
      "\u001b[1;31mKeyError\u001b[0m                                  Traceback (most recent call last)",
      "File \u001b[1;32mc:\\Users\\KABabadzhanov\\AppData\\Local\\Programs\\Python\\Python312\\Lib\\site-packages\\pandas\\core\\indexes\\base.py:3802\u001b[0m, in \u001b[0;36mIndex.get_loc\u001b[1;34m(self, key)\u001b[0m\n\u001b[0;32m   3801\u001b[0m \u001b[38;5;28;01mtry\u001b[39;00m:\n\u001b[1;32m-> 3802\u001b[0m     \u001b[38;5;28;01mreturn\u001b[39;00m \u001b[38;5;28;43mself\u001b[39;49m\u001b[38;5;241;43m.\u001b[39;49m\u001b[43m_engine\u001b[49m\u001b[38;5;241;43m.\u001b[39;49m\u001b[43mget_loc\u001b[49m\u001b[43m(\u001b[49m\u001b[43mcasted_key\u001b[49m\u001b[43m)\u001b[49m\n\u001b[0;32m   3803\u001b[0m \u001b[38;5;28;01mexcept\u001b[39;00m \u001b[38;5;167;01mKeyError\u001b[39;00m \u001b[38;5;28;01mas\u001b[39;00m err:\n",
      "File \u001b[1;32mindex.pyx:153\u001b[0m, in \u001b[0;36mpandas._libs.index.IndexEngine.get_loc\u001b[1;34m()\u001b[0m\n",
      "File \u001b[1;32mindex.pyx:182\u001b[0m, in \u001b[0;36mpandas._libs.index.IndexEngine.get_loc\u001b[1;34m()\u001b[0m\n",
      "File \u001b[1;32mpandas\\\\_libs\\\\hashtable_class_helper.pxi:7081\u001b[0m, in \u001b[0;36mpandas._libs.hashtable.PyObjectHashTable.get_item\u001b[1;34m()\u001b[0m\n",
      "File \u001b[1;32mpandas\\\\_libs\\\\hashtable_class_helper.pxi:7089\u001b[0m, in \u001b[0;36mpandas._libs.hashtable.PyObjectHashTable.get_item\u001b[1;34m()\u001b[0m\n",
      "\u001b[1;31mKeyError\u001b[0m: None",
      "\nThe above exception was the direct cause of the following exception:\n",
      "\u001b[1;31mKeyError\u001b[0m                                  Traceback (most recent call last)",
      "Cell \u001b[1;32mIn[53], line 2\u001b[0m\n\u001b[0;32m      1\u001b[0m my_tree \u001b[38;5;241m=\u001b[39m MyTreeClf(\u001b[38;5;241m5\u001b[39m, \u001b[38;5;241m200\u001b[39m, \u001b[38;5;241m10\u001b[39m, \u001b[38;5;241m4\u001b[39m)\n\u001b[1;32m----> 2\u001b[0m \u001b[43mmy_tree\u001b[49m\u001b[38;5;241;43m.\u001b[39;49m\u001b[43mfit\u001b[49m\u001b[43m(\u001b[49m\u001b[43mX\u001b[49m\u001b[43m,\u001b[49m\u001b[43m \u001b[49m\u001b[43my\u001b[49m\u001b[43m)\u001b[49m\n\u001b[0;32m      3\u001b[0m \u001b[38;5;28mprint\u001b[39m(my_tree\u001b[38;5;241m.\u001b[39mleafs_cnt)\n\u001b[0;32m      4\u001b[0m \u001b[38;5;28mprint\u001b[39m(\u001b[38;5;28mround\u001b[39m(my_tree\u001b[38;5;241m.\u001b[39msum_leafs(), \u001b[38;5;241m6\u001b[39m))\n",
      "Cell \u001b[1;32mIn[50], line 114\u001b[0m, in \u001b[0;36mMyTreeClf.fit\u001b[1;34m(self, X, y)\u001b[0m\n\u001b[0;32m    112\u001b[0m \u001b[38;5;28mself\u001b[39m\u001b[38;5;241m.\u001b[39m_get_splitters_wbins(X, y)\n\u001b[0;32m    113\u001b[0m \u001b[38;5;28mprint\u001b[39m(\u001b[38;5;28mself\u001b[39m\u001b[38;5;241m.\u001b[39msplitters)\n\u001b[1;32m--> 114\u001b[0m \u001b[38;5;28mself\u001b[39m\u001b[38;5;241m.\u001b[39mroot \u001b[38;5;241m=\u001b[39m \u001b[38;5;28;43mself\u001b[39;49m\u001b[38;5;241;43m.\u001b[39;49m\u001b[43m_fit\u001b[49m\u001b[43m(\u001b[49m\u001b[43mX\u001b[49m\u001b[43m,\u001b[49m\u001b[43m \u001b[49m\u001b[43my\u001b[49m\u001b[43m)\u001b[49m\n",
      "Cell \u001b[1;32mIn[50], line 89\u001b[0m, in \u001b[0;36mMyTreeClf._fit\u001b[1;34m(self, X, y, depth)\u001b[0m\n\u001b[0;32m     87\u001b[0m \u001b[38;5;28;01melse\u001b[39;00m:\n\u001b[0;32m     88\u001b[0m     X, y \u001b[38;5;241m=\u001b[39m left_sub\u001b[38;5;241m.\u001b[39mdrop(left_sub\u001b[38;5;241m.\u001b[39mcolumns[\u001b[38;5;241m-\u001b[39m\u001b[38;5;241m1\u001b[39m], axis\u001b[38;5;241m=\u001b[39m\u001b[38;5;241m1\u001b[39m), left_sub\u001b[38;5;241m.\u001b[39miloc[:, \u001b[38;5;241m-\u001b[39m\u001b[38;5;241m1\u001b[39m]\n\u001b[1;32m---> 89\u001b[0m     root\u001b[38;5;241m.\u001b[39mleft \u001b[38;5;241m=\u001b[39m \u001b[38;5;28;43mself\u001b[39;49m\u001b[38;5;241;43m.\u001b[39;49m\u001b[43m_fit\u001b[49m\u001b[43m(\u001b[49m\u001b[43mX\u001b[49m\u001b[43m,\u001b[49m\u001b[43m \u001b[49m\u001b[43my\u001b[49m\u001b[43m,\u001b[49m\u001b[43m \u001b[49m\u001b[43mdepth\u001b[49m\u001b[38;5;241;43m+\u001b[39;49m\u001b[38;5;241;43m1\u001b[39;49m\u001b[43m)\u001b[49m\n\u001b[0;32m     91\u001b[0m \u001b[38;5;28;01mif\u001b[39;00m \u001b[38;5;28mself\u001b[39m\u001b[38;5;241m.\u001b[39mis_leaf(right_sub, depth):\n\u001b[0;32m     92\u001b[0m     value \u001b[38;5;241m=\u001b[39m right_sub\u001b[38;5;241m.\u001b[39miloc[:, \u001b[38;5;241m-\u001b[39m\u001b[38;5;241m1\u001b[39m]\u001b[38;5;241m.\u001b[39msum() \u001b[38;5;241m/\u001b[39m right_sub\u001b[38;5;241m.\u001b[39mshape[\u001b[38;5;241m0\u001b[39m]\n",
      "Cell \u001b[1;32mIn[50], line 89\u001b[0m, in \u001b[0;36mMyTreeClf._fit\u001b[1;34m(self, X, y, depth)\u001b[0m\n\u001b[0;32m     87\u001b[0m \u001b[38;5;28;01melse\u001b[39;00m:\n\u001b[0;32m     88\u001b[0m     X, y \u001b[38;5;241m=\u001b[39m left_sub\u001b[38;5;241m.\u001b[39mdrop(left_sub\u001b[38;5;241m.\u001b[39mcolumns[\u001b[38;5;241m-\u001b[39m\u001b[38;5;241m1\u001b[39m], axis\u001b[38;5;241m=\u001b[39m\u001b[38;5;241m1\u001b[39m), left_sub\u001b[38;5;241m.\u001b[39miloc[:, \u001b[38;5;241m-\u001b[39m\u001b[38;5;241m1\u001b[39m]\n\u001b[1;32m---> 89\u001b[0m     root\u001b[38;5;241m.\u001b[39mleft \u001b[38;5;241m=\u001b[39m \u001b[38;5;28;43mself\u001b[39;49m\u001b[38;5;241;43m.\u001b[39;49m\u001b[43m_fit\u001b[49m\u001b[43m(\u001b[49m\u001b[43mX\u001b[49m\u001b[43m,\u001b[49m\u001b[43m \u001b[49m\u001b[43my\u001b[49m\u001b[43m,\u001b[49m\u001b[43m \u001b[49m\u001b[43mdepth\u001b[49m\u001b[38;5;241;43m+\u001b[39;49m\u001b[38;5;241;43m1\u001b[39;49m\u001b[43m)\u001b[49m\n\u001b[0;32m     91\u001b[0m \u001b[38;5;28;01mif\u001b[39;00m \u001b[38;5;28mself\u001b[39m\u001b[38;5;241m.\u001b[39mis_leaf(right_sub, depth):\n\u001b[0;32m     92\u001b[0m     value \u001b[38;5;241m=\u001b[39m right_sub\u001b[38;5;241m.\u001b[39miloc[:, \u001b[38;5;241m-\u001b[39m\u001b[38;5;241m1\u001b[39m]\u001b[38;5;241m.\u001b[39msum() \u001b[38;5;241m/\u001b[39m right_sub\u001b[38;5;241m.\u001b[39mshape[\u001b[38;5;241m0\u001b[39m]\n",
      "Cell \u001b[1;32mIn[50], line 89\u001b[0m, in \u001b[0;36mMyTreeClf._fit\u001b[1;34m(self, X, y, depth)\u001b[0m\n\u001b[0;32m     87\u001b[0m \u001b[38;5;28;01melse\u001b[39;00m:\n\u001b[0;32m     88\u001b[0m     X, y \u001b[38;5;241m=\u001b[39m left_sub\u001b[38;5;241m.\u001b[39mdrop(left_sub\u001b[38;5;241m.\u001b[39mcolumns[\u001b[38;5;241m-\u001b[39m\u001b[38;5;241m1\u001b[39m], axis\u001b[38;5;241m=\u001b[39m\u001b[38;5;241m1\u001b[39m), left_sub\u001b[38;5;241m.\u001b[39miloc[:, \u001b[38;5;241m-\u001b[39m\u001b[38;5;241m1\u001b[39m]\n\u001b[1;32m---> 89\u001b[0m     root\u001b[38;5;241m.\u001b[39mleft \u001b[38;5;241m=\u001b[39m \u001b[38;5;28;43mself\u001b[39;49m\u001b[38;5;241;43m.\u001b[39;49m\u001b[43m_fit\u001b[49m\u001b[43m(\u001b[49m\u001b[43mX\u001b[49m\u001b[43m,\u001b[49m\u001b[43m \u001b[49m\u001b[43my\u001b[49m\u001b[43m,\u001b[49m\u001b[43m \u001b[49m\u001b[43mdepth\u001b[49m\u001b[38;5;241;43m+\u001b[39;49m\u001b[38;5;241;43m1\u001b[39;49m\u001b[43m)\u001b[49m\n\u001b[0;32m     91\u001b[0m \u001b[38;5;28;01mif\u001b[39;00m \u001b[38;5;28mself\u001b[39m\u001b[38;5;241m.\u001b[39mis_leaf(right_sub, depth):\n\u001b[0;32m     92\u001b[0m     value \u001b[38;5;241m=\u001b[39m right_sub\u001b[38;5;241m.\u001b[39miloc[:, \u001b[38;5;241m-\u001b[39m\u001b[38;5;241m1\u001b[39m]\u001b[38;5;241m.\u001b[39msum() \u001b[38;5;241m/\u001b[39m right_sub\u001b[38;5;241m.\u001b[39mshape[\u001b[38;5;241m0\u001b[39m]\n",
      "Cell \u001b[1;32mIn[50], line 75\u001b[0m, in \u001b[0;36mMyTreeClf._fit\u001b[1;34m(self, X, y, depth)\u001b[0m\n\u001b[0;32m     71\u001b[0m root \u001b[38;5;241m=\u001b[39m Node((best_col, best_split))\n\u001b[0;32m     73\u001b[0m col_targ \u001b[38;5;241m=\u001b[39m pd\u001b[38;5;241m.\u001b[39mconcat([X, y], axis\u001b[38;5;241m=\u001b[39m\u001b[38;5;241m1\u001b[39m)\n\u001b[1;32m---> 75\u001b[0m \u001b[38;5;28;01mif\u001b[39;00m (best_split \u001b[38;5;241m>\u001b[39m \u001b[43mcol_targ\u001b[49m\u001b[43m[\u001b[49m\u001b[43mbest_col\u001b[49m\u001b[43m]\u001b[49m\u001b[38;5;241m.\u001b[39mmax() \u001b[38;5;129;01mor\u001b[39;00m best_split \u001b[38;5;241m<\u001b[39m col_targ[best_col]\u001b[38;5;241m.\u001b[39mmin()):\n\u001b[0;32m     76\u001b[0m     value \u001b[38;5;241m=\u001b[39m col_targ\u001b[38;5;241m.\u001b[39miloc[:, \u001b[38;5;241m-\u001b[39m\u001b[38;5;241m1\u001b[39m]\u001b[38;5;241m.\u001b[39msum() \u001b[38;5;241m/\u001b[39m col_targ\u001b[38;5;241m.\u001b[39mshape[\u001b[38;5;241m0\u001b[39m]\n\u001b[0;32m     77\u001b[0m     \u001b[38;5;28;01mreturn\u001b[39;00m Node((\u001b[38;5;124m'\u001b[39m\u001b[38;5;124mleaf\u001b[39m\u001b[38;5;124m'\u001b[39m, value))\n",
      "File \u001b[1;32mc:\\Users\\KABabadzhanov\\AppData\\Local\\Programs\\Python\\Python312\\Lib\\site-packages\\pandas\\core\\frame.py:4090\u001b[0m, in \u001b[0;36mDataFrame.__getitem__\u001b[1;34m(self, key)\u001b[0m\n\u001b[0;32m   4088\u001b[0m \u001b[38;5;28;01mif\u001b[39;00m \u001b[38;5;28mself\u001b[39m\u001b[38;5;241m.\u001b[39mcolumns\u001b[38;5;241m.\u001b[39mnlevels \u001b[38;5;241m>\u001b[39m \u001b[38;5;241m1\u001b[39m:\n\u001b[0;32m   4089\u001b[0m     \u001b[38;5;28;01mreturn\u001b[39;00m \u001b[38;5;28mself\u001b[39m\u001b[38;5;241m.\u001b[39m_getitem_multilevel(key)\n\u001b[1;32m-> 4090\u001b[0m indexer \u001b[38;5;241m=\u001b[39m \u001b[38;5;28;43mself\u001b[39;49m\u001b[38;5;241;43m.\u001b[39;49m\u001b[43mcolumns\u001b[49m\u001b[38;5;241;43m.\u001b[39;49m\u001b[43mget_loc\u001b[49m\u001b[43m(\u001b[49m\u001b[43mkey\u001b[49m\u001b[43m)\u001b[49m\n\u001b[0;32m   4091\u001b[0m \u001b[38;5;28;01mif\u001b[39;00m is_integer(indexer):\n\u001b[0;32m   4092\u001b[0m     indexer \u001b[38;5;241m=\u001b[39m [indexer]\n",
      "File \u001b[1;32mc:\\Users\\KABabadzhanov\\AppData\\Local\\Programs\\Python\\Python312\\Lib\\site-packages\\pandas\\core\\indexes\\base.py:3809\u001b[0m, in \u001b[0;36mIndex.get_loc\u001b[1;34m(self, key)\u001b[0m\n\u001b[0;32m   3804\u001b[0m     \u001b[38;5;28;01mif\u001b[39;00m \u001b[38;5;28misinstance\u001b[39m(casted_key, \u001b[38;5;28mslice\u001b[39m) \u001b[38;5;129;01mor\u001b[39;00m (\n\u001b[0;32m   3805\u001b[0m         \u001b[38;5;28misinstance\u001b[39m(casted_key, abc\u001b[38;5;241m.\u001b[39mIterable)\n\u001b[0;32m   3806\u001b[0m         \u001b[38;5;129;01mand\u001b[39;00m \u001b[38;5;28many\u001b[39m(\u001b[38;5;28misinstance\u001b[39m(x, \u001b[38;5;28mslice\u001b[39m) \u001b[38;5;28;01mfor\u001b[39;00m x \u001b[38;5;129;01min\u001b[39;00m casted_key)\n\u001b[0;32m   3807\u001b[0m     ):\n\u001b[0;32m   3808\u001b[0m         \u001b[38;5;28;01mraise\u001b[39;00m InvalidIndexError(key)\n\u001b[1;32m-> 3809\u001b[0m     \u001b[38;5;28;01mraise\u001b[39;00m \u001b[38;5;167;01mKeyError\u001b[39;00m(key) \u001b[38;5;28;01mfrom\u001b[39;00m \u001b[38;5;21;01merr\u001b[39;00m\n\u001b[0;32m   3810\u001b[0m \u001b[38;5;28;01mexcept\u001b[39;00m \u001b[38;5;167;01mTypeError\u001b[39;00m:\n\u001b[0;32m   3811\u001b[0m     \u001b[38;5;66;03m# If we have a listlike key, _check_indexing_error will raise\u001b[39;00m\n\u001b[0;32m   3812\u001b[0m     \u001b[38;5;66;03m#  InvalidIndexError. Otherwise we fall through and re-raise\u001b[39;00m\n\u001b[0;32m   3813\u001b[0m     \u001b[38;5;66;03m#  the TypeError.\u001b[39;00m\n\u001b[0;32m   3814\u001b[0m     \u001b[38;5;28mself\u001b[39m\u001b[38;5;241m.\u001b[39m_check_indexing_error(key)\n",
      "\u001b[1;31mKeyError\u001b[0m: None"
     ]
    }
   ],
   "source": [
    "my_tree = MyTreeClf(5, 200, 10, 4)\n",
    "my_tree.fit(X, y)\n",
    "print(my_tree.leafs_cnt)\n",
    "print(round(my_tree.sum_leafs(), 6))\n",
    "my_tree.print_tree()"
   ]
  },
  {
   "cell_type": "code",
   "execution_count": 48,
   "metadata": {},
   "outputs": [
    {
     "ename": "AttributeError",
     "evalue": "'NoneType' object has no attribute 'right'",
     "output_type": "error",
     "traceback": [
      "\u001b[1;31m---------------------------------------------------------------------------\u001b[0m",
      "\u001b[1;31mAttributeError\u001b[0m                            Traceback (most recent call last)",
      "Cell \u001b[1;32mIn[48], line 1\u001b[0m\n\u001b[1;32m----> 1\u001b[0m y_pred_logits \u001b[38;5;241m=\u001b[39m \u001b[43mmy_tree\u001b[49m\u001b[38;5;241;43m.\u001b[39;49m\u001b[43mpredict_proba\u001b[49m\u001b[43m(\u001b[49m\u001b[43mX\u001b[49m\u001b[43m)\u001b[49m\n\u001b[0;32m      2\u001b[0m y_pred \u001b[38;5;241m=\u001b[39m my_tree\u001b[38;5;241m.\u001b[39mpredict(X)\n\u001b[0;32m      3\u001b[0m (y_pred \u001b[38;5;241m==\u001b[39m y)\u001b[38;5;241m.\u001b[39msum() \u001b[38;5;241m/\u001b[39m \u001b[38;5;28mlen\u001b[39m(y)\n",
      "Cell \u001b[1;32mIn[44], line 127\u001b[0m, in \u001b[0;36mMyTreeClf.predict_proba\u001b[1;34m(self, X)\u001b[0m\n\u001b[0;32m    126\u001b[0m \u001b[38;5;28;01mdef\u001b[39;00m \u001b[38;5;21mpredict_proba\u001b[39m(\u001b[38;5;28mself\u001b[39m, X):\n\u001b[1;32m--> 127\u001b[0m     y_pred_logits \u001b[38;5;241m=\u001b[39m np\u001b[38;5;241m.\u001b[39marray([\u001b[38;5;28;43mself\u001b[39;49m\u001b[38;5;241;43m.\u001b[39;49m\u001b[43m_predict_proba\u001b[49m\u001b[43m(\u001b[49m\u001b[43mX\u001b[49m\u001b[38;5;241;43m.\u001b[39;49m\u001b[43miloc\u001b[49m\u001b[43m[\u001b[49m\u001b[43mi\u001b[49m\u001b[43m,\u001b[49m\u001b[43m \u001b[49m\u001b[43m:\u001b[49m\u001b[43m]\u001b[49m\u001b[43m,\u001b[49m\u001b[43m \u001b[49m\u001b[38;5;28;43mself\u001b[39;49m\u001b[38;5;241;43m.\u001b[39;49m\u001b[43mroot\u001b[49m\u001b[43m)\u001b[49m \u001b[38;5;28;01mfor\u001b[39;00m i \u001b[38;5;129;01min\u001b[39;00m \u001b[38;5;28mrange\u001b[39m(X\u001b[38;5;241m.\u001b[39mshape[\u001b[38;5;241m0\u001b[39m])])\n\u001b[0;32m    128\u001b[0m     \u001b[38;5;28;01mreturn\u001b[39;00m y_pred_logits\n",
      "Cell \u001b[1;32mIn[44], line 117\u001b[0m, in \u001b[0;36mMyTreeClf._predict_proba\u001b[1;34m(self, x, root)\u001b[0m\n\u001b[0;32m    116\u001b[0m \u001b[38;5;28;01mdef\u001b[39;00m \u001b[38;5;21m_predict_proba\u001b[39m(\u001b[38;5;28mself\u001b[39m, x, root):\n\u001b[1;32m--> 117\u001b[0m     \u001b[38;5;28;01mif\u001b[39;00m (\u001b[43mroot\u001b[49m\u001b[38;5;241;43m.\u001b[39;49m\u001b[43mright\u001b[49m \u001b[38;5;129;01mis\u001b[39;00m \u001b[38;5;28;01mNone\u001b[39;00m \u001b[38;5;129;01mand\u001b[39;00m root\u001b[38;5;241m.\u001b[39mleft \u001b[38;5;129;01mis\u001b[39;00m \u001b[38;5;28;01mNone\u001b[39;00m):\n\u001b[0;32m    118\u001b[0m         \u001b[38;5;28;01mreturn\u001b[39;00m root\u001b[38;5;241m.\u001b[39mvalue[\u001b[38;5;241m1\u001b[39m]\n\u001b[0;32m    120\u001b[0m     feat, split \u001b[38;5;241m=\u001b[39m root\u001b[38;5;241m.\u001b[39mvalue\n",
      "\u001b[1;31mAttributeError\u001b[0m: 'NoneType' object has no attribute 'right'"
     ]
    }
   ],
   "source": [
    "y_pred_logits = my_tree.predict_proba(X)\n",
    "y_pred = my_tree.predict(X)\n",
    "(y_pred == y).sum() / len(y)"
   ]
  },
  {
   "cell_type": "code",
   "execution_count": 56,
   "metadata": {},
   "outputs": [
    {
     "data": {
      "text/plain": [
       "variance    -7.0421\n",
       "skewness   -13.7731\n",
       "curtosis    -5.2861\n",
       "entropy     -8.5482\n",
       "target       0.0000\n",
       "dtype: float64"
      ]
     },
     "execution_count": 56,
     "metadata": {},
     "output_type": "execute_result"
    }
   ],
   "source": [
    "col_tag.min()"
   ]
  },
  {
   "cell_type": "code",
   "execution_count": null,
   "metadata": {},
   "outputs": [],
   "source": []
  }
 ],
 "metadata": {
  "kernelspec": {
   "display_name": "Python 3",
   "language": "python",
   "name": "python3"
  },
  "language_info": {
   "codemirror_mode": {
    "name": "ipython",
    "version": 3
   },
   "file_extension": ".py",
   "mimetype": "text/x-python",
   "name": "python",
   "nbconvert_exporter": "python",
   "pygments_lexer": "ipython3",
   "version": "3.12.0"
  }
 },
 "nbformat": 4,
 "nbformat_minor": 2
}
