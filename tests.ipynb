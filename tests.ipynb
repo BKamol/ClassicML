{
 "cells": [
  {
   "cell_type": "code",
   "execution_count": 1,
   "metadata": {},
   "outputs": [
    {
     "name": "stderr",
     "output_type": "stream",
     "text": [
      "C:\\Users\\KABabadzhanov\\AppData\\Local\\Temp\\ipykernel_2732\\1662815981.py:2: DeprecationWarning: \n",
      "Pyarrow will become a required dependency of pandas in the next major release of pandas (pandas 3.0),\n",
      "(to allow more performant data types, such as the Arrow string type, and better interoperability with other libraries)\n",
      "but was not found to be installed on your system.\n",
      "If this would cause problems for you,\n",
      "please provide us feedback at https://github.com/pandas-dev/pandas/issues/54466\n",
      "        \n",
      "  import pandas as pd\n"
     ]
    }
   ],
   "source": [
    "import numpy as np\n",
    "import pandas as pd"
   ]
  },
  {
   "cell_type": "code",
   "execution_count": 115,
   "metadata": {},
   "outputs": [],
   "source": [
    "class Node:\n",
    "    def __init__(self, value, left=None, right=None):\n",
    "        self.value = value\n",
    "        self.left = left\n",
    "        self.right = right\n"
   ]
  },
  {
   "cell_type": "code",
   "execution_count": 145,
   "metadata": {},
   "outputs": [],
   "source": [
    "class MyTreeClf:\n",
    "    def __init__(self, max_depth=5, min_samples_split=2, max_leafs=20):\n",
    "        self.max_depth = max_depth\n",
    "        self.min_samples_split = min_samples_split\n",
    "        self.max_leafs = max_leafs\n",
    "        self.leafs_cnt = 0\n",
    "        self.root = None\n",
    "\n",
    "    def __repr__(self):\n",
    "        return f\"MyTreeClf class: max_depth={self.max_depth}, min_samples_split={self.min_samples_split}, max_leafs={self.max_leafs}\"\n",
    "    \n",
    "    @staticmethod\n",
    "    def prob(y):\n",
    "        return np.sum((y == 1)) / len(y)\n",
    "\n",
    "\n",
    "\n",
    "    def _fit(self, X, y, depth):\n",
    "\n",
    "        if (depth >= self.max_depth or self.prob(y) in (0, 1) or len(y) < self.min_samples_split or self.leafs_cnt >= self.max_leafs-1):\n",
    "            self.leafs_cnt += 1\n",
    "            return Node((\"leaf\", self.prob(y)))\n",
    "        \n",
    "        best_feat, best_split, ig = self.get_best_split(X, y)\n",
    "        X['y'] = y\n",
    "        left = X.loc[X[best_feat] <= best_split, :]\n",
    "        right = X.loc[X[best_feat] > best_split, :]\n",
    "        left_X, left_y = left.drop('y', axis=1), left['y']\n",
    "        right_X, right_y = left.drop('y', axis=1), left['y']\n",
    "        \n",
    "        left_subtree = self._fit(left_X, left_y, depth+1)\n",
    "        right_subtree = self._fit(right_X, right_y, depth+1)\n",
    "        return Node((best_feat, best_split), left_subtree, right_subtree)\n",
    "        \n",
    "\n",
    "    def fit(self, X, y):\n",
    "        self.root = self._fit(X, y, 0)\n",
    "\n",
    "    def _print_tree(self, root, intend):\n",
    "        if (root is None):\n",
    "            return None\n",
    "        feat, split = root.value\n",
    "        if (root.left is None and root.right is None):\n",
    "            print('  '*intend, end='')\n",
    "            print(f\"{feat} = {split}\")\n",
    "        else:\n",
    "            print('  '*intend, end='')\n",
    "            print(f\"{feat} > {split}\")\n",
    "        self._print_tree(root.left, intend+1)\n",
    "        self._print_tree(root.right, intend+1)\n",
    "\n",
    "    def print_tree(self):\n",
    "        self._print_tree(self.root, 0)\n",
    "\n",
    "\n",
    "    @staticmethod\n",
    "    def entropy(x):\n",
    "      p = np.bincount(x) / len(x)\n",
    "      return -1 * np.sum(p * np.log2(p + 1e-15))\n",
    "\n",
    "    def information_gain(self, x, y):\n",
    "        N = len(x) + len(y)\n",
    "        s0 = self.entropy(np.concatenate((x, y)))\n",
    "        sx, sy = self.entropy(x), self.entropy(y)\n",
    "        return s0 - len(x) / N * sx - len(y) / N * sy\n",
    "\n",
    "    def get_best_split(self, X, y):\n",
    "        cols = X.columns.tolist()\n",
    "        X, y = np.asarray(X), np.asarray(y)\n",
    "        col_name, split_value, ig = None, 0, 0\n",
    "        for col_index in range(X.shape[1]):\n",
    "            values = X[:, col_index]\n",
    "            uniques = np.sort(np.unique(values))\n",
    "            ents = []\n",
    "            for index in range(len(uniques)):\n",
    "                sep = np.mean(uniques[index : index + 2])\n",
    "                current_ig = self.information_gain(y[values <= sep], y[values > sep])\n",
    "\n",
    "                if current_ig > ig:\n",
    "                    col_name = cols[col_index]\n",
    "                    split_value = sep\n",
    "                    ig = current_ig\n",
    "\n",
    "        return col_name, split_value, ig\n",
    "\n"
   ]
  },
  {
   "cell_type": "code",
   "execution_count": 136,
   "metadata": {},
   "outputs": [],
   "source": [
    "from sklearn.datasets import make_regression\n",
    "\n",
    "X, y = make_regression(n_samples=1000, n_features=14, n_informative=10, noise=15, random_state=42)\n",
    "X = pd.DataFrame(X)\n",
    "y = pd.Series(y)\n",
    "X.columns = [f'col_{col}' for col in X.columns]"
   ]
  },
  {
   "cell_type": "code",
   "execution_count": 137,
   "metadata": {},
   "outputs": [],
   "source": [
    "from sklearn.datasets import make_classification\n",
    "\n",
    "X, y = make_classification(n_samples=1000, n_features=14, n_informative=10, random_state=42)\n",
    "X = pd.DataFrame(X)\n",
    "y = pd.Series(y)\n",
    "X.columns = [f'col_{col}' for col in X.columns]"
   ]
  },
  {
   "cell_type": "code",
   "execution_count": 146,
   "metadata": {},
   "outputs": [],
   "source": [
    "df = pd.read_csv('./data/data_banknote_authentication.txt', header=None)\n",
    "df.columns = ['variance', 'skewness', 'curtosis', 'entropy', 'target']\n",
    "X, y = df.iloc[:,:4], df['target']"
   ]
  },
  {
   "cell_type": "code",
   "execution_count": 147,
   "metadata": {},
   "outputs": [],
   "source": [
    "my_decision_tree = MyTreeClf(5, 5, 10)\n",
    "my_decision_tree.fit(X, y)\n"
   ]
  },
  {
   "cell_type": "code",
   "execution_count": 148,
   "metadata": {},
   "outputs": [
    {
     "name": "stdout",
     "output_type": "stream",
     "text": [
      "variance > 0.320165\n",
      "  skewness > 5.86535\n",
      "    curtosis > 6.21865\n",
      "      variance > -0.36205\n",
      "        leaf = 1.0\n",
      "        leaf = 1.0\n",
      "      variance > -0.36205\n",
      "        leaf = 1.0\n",
      "        leaf = 1.0\n",
      "    curtosis > 6.21865\n",
      "      variance > -0.36205\n",
      "        leaf = 1.0\n",
      "        leaf = 1.0\n",
      "      variance > -0.36205\n",
      "        leaf = 1.0\n",
      "        leaf = 1.0\n",
      "  skewness > 5.86535\n",
      "    curtosis > 6.21865\n",
      "      variance > -0.36205\n",
      "        leaf = 1.0\n",
      "        leaf = 1.0\n",
      "      leaf = 0.9945205479452055\n",
      "    leaf = 0.9481765834932822\n"
     ]
    }
   ],
   "source": [
    "my_decision_tree.print_tree()"
   ]
  },
  {
   "cell_type": "code",
   "execution_count": 13,
   "metadata": {},
   "outputs": [
    {
     "name": "stdout",
     "output_type": "stream",
     "text": [
      "0.5\n"
     ]
    }
   ],
   "source": [
    "import numpy as np\n",
    "import pandas as pd\n",
    "from sklearn.metrics import roc_auc_score\n",
    "y_true = np.array([1, 0, 0, 1, 1])\n",
    "y_pred = np.array([0.5, 0.6, 0.2, 0.1, 0.7])\n",
    "\n",
    "df = pd.DataFrame({'true': y_true, 'pred': y_pred}).sort_values(by='pred')\n",
    "print(roc_auc_score(y_true, y_pred))"
   ]
  },
  {
   "cell_type": "code",
   "execution_count": null,
   "metadata": {},
   "outputs": [],
   "source": []
  }
 ],
 "metadata": {
  "kernelspec": {
   "display_name": "Python 3",
   "language": "python",
   "name": "python3"
  },
  "language_info": {
   "codemirror_mode": {
    "name": "ipython",
    "version": 3
   },
   "file_extension": ".py",
   "mimetype": "text/x-python",
   "name": "python",
   "nbconvert_exporter": "python",
   "pygments_lexer": "ipython3",
   "version": "3.12.0"
  }
 },
 "nbformat": 4,
 "nbformat_minor": 2
}
